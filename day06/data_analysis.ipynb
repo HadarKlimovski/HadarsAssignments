{
 "cells": [
  {
   "cell_type": "markdown",
   "metadata": {},
   "source": [
    "this is data of als patients. i have protein abundance from they blood and their survival time."
   ]
  },
  {
   "cell_type": "code",
   "execution_count": 4,
   "metadata": {},
   "outputs": [
    {
     "name": "stdout",
     "output_type": "stream",
     "text": [
      "Means:\n",
      " IGLV4-69    -10.727607\n",
      "IGLV8-61    -10.518967\n",
      "IGLV10-54   -11.001939\n",
      "IGLV2-18    -10.734788\n",
      "IGLV3-12    -10.822232\n",
      "               ...    \n",
      "PKP3        -10.724509\n",
      "LSM4        -10.853780\n",
      "DMRT2       -10.673452\n",
      "EMILIN1     -11.027499\n",
      "C1QA_1      -10.742491\n",
      "Length: 402, dtype: float64\n",
      "Medians:\n",
      " IGLV4-69    -10.731334\n",
      "IGLV8-61    -10.513980\n",
      "IGLV10-54   -11.013850\n",
      "IGLV2-18    -10.733648\n",
      "IGLV3-12    -10.830222\n",
      "               ...    \n",
      "PKP3        -10.712098\n",
      "LSM4        -10.869931\n",
      "DMRT2       -10.661086\n",
      "EMILIN1     -11.036808\n",
      "C1QA_1      -10.728861\n",
      "Length: 402, dtype: float64\n",
      "Standard Deviations:\n",
      " IGLV4-69     0.091738\n",
      "IGLV8-61     0.078919\n",
      "IGLV10-54    0.084438\n",
      "IGLV2-18     0.109347\n",
      "IGLV3-12     0.085152\n",
      "               ...   \n",
      "PKP3         0.102668\n",
      "LSM4         0.103596\n",
      "DMRT2        0.081399\n",
      "EMILIN1      0.095250\n",
      "C1QA_1       0.075402\n",
      "Length: 402, dtype: float64\n"
     ]
    }
   ],
   "source": [
    "import pandas as pd\n",
    "\n",
    "def load_data(filepath):\n",
    "    \"\"\" Load the Excel file. \"\"\"\n",
    "    return pd.read_excel(filepath)\n",
    "\n",
    "def main():\n",
    "    filepath = '/Users/hadarklimovski/Desktop/git/HadarsAssignments/protein_clinical_thresold_402.xlsx'\n",
    "    data = load_data(filepath)\n",
    "    \n",
    "    # Exclude the first column (sample names) and the last two columns (survival time and event)\n",
    "    protein_data = data.iloc[:, 1:-2]\n",
    "    \n",
    "    # Calculate statistics\n",
    "    means = protein_data.mean()\n",
    "    medians = protein_data.median()\n",
    "    std_devs = protein_data.std()\n",
    "    \n",
    "    print(\"Means:\\n\", means)\n",
    "    print(\"Medians:\\n\", medians)\n",
    "    print(\"Standard Deviations:\\n\", std_devs)\n",
    "\n",
    "if __name__ == \"__main__\":\n",
    "    main()\n"
   ]
  }
 ],
 "metadata": {
  "kernelspec": {
   "display_name": "Python 3",
   "language": "python",
   "name": "python3"
  },
  "language_info": {
   "codemirror_mode": {
    "name": "ipython",
    "version": 3
   },
   "file_extension": ".py",
   "mimetype": "text/x-python",
   "name": "python",
   "nbconvert_exporter": "python",
   "pygments_lexer": "ipython3",
   "version": "3.12.3"
  }
 },
 "nbformat": 4,
 "nbformat_minor": 2
}
